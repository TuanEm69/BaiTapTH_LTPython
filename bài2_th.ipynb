{
 "cells": [
  {
   "cell_type": "code",
   "execution_count": 5,
   "id": "e37479c7",
   "metadata": {},
   "outputs": [
    {
     "name": "stdout",
     "output_type": "stream",
     "text": [
      "Dữ liệu đã được lọc và lưu vào file Data_new.csv\n"
     ]
    }
   ],
   "source": [
    "import pandas as pd\n",
    "\n",
    "# Đọc dữ liệu từ file Excel\n",
    "url = \"https://docs.google.com/spreadsheets/d/1e9rRiwAmRYq60Lx2PBMZcSOA8jC-rmoL/export?format=xlsx\"\n",
    "data = pd.read_excel(url)\n",
    "\n",
    "# Ép kiểu dữ liệu về số (nếu có lỗi thì đặt NaN)\n",
    "numeric_cols = ['vpv1', 'pCharge', 'SOC', 'ppv1', 'ppv2', 'ppv3']\n",
    "for col in numeric_cols:\n",
    "    data[col] = pd.to_numeric(data[col], errors='coerce')  # Chuyển sai kiểu thành NaN\n",
    "\n",
    "# Lọc dữ liệu theo điều kiện và tạo bản sao\n",
    "filtered_data = data[(data['vpv1'] != 0) & (data['pCharge'] != 0) & (data['SOC'] > 8)].copy()\n",
    "\n",
    "# Tính tổng các cột ppv1, ppv2, ppv3\n",
    "filtered_data['Sum_PPV'] = filtered_data[['ppv1', 'ppv2', 'ppv3']].sum(axis=1)\n",
    "\n",
    "# Lưu dữ liệu ra file CSV\n",
    "filtered_data.to_csv('Data_new.csv', index=False)\n",
    "\n",
    "print(\"Dữ liệu đã được lọc và lưu vào file Data_new.csv\")\n"
   ]
  }
 ],
 "metadata": {
  "kernelspec": {
   "display_name": "base",
   "language": "python",
   "name": "python3"
  },
  "language_info": {
   "codemirror_mode": {
    "name": "ipython",
    "version": 3
   },
   "file_extension": ".py",
   "mimetype": "text/x-python",
   "name": "python",
   "nbconvert_exporter": "python",
   "pygments_lexer": "ipython3",
   "version": "3.12.7"
  }
 },
 "nbformat": 4,
 "nbformat_minor": 5
}
