{
 "cells": [
  {
   "cell_type": "code",
   "execution_count": 2,
   "id": "c983c1c0",
   "metadata": {},
   "outputs": [
    {
     "name": "stdout",
     "output_type": "stream",
     "text": [
      "Tổng temperature_2m: 3112.2\n",
      "Tổng relative_humidity_2m: 14958\n",
      "Tổng wind_speed_10m: 2008.6999999999998\n"
     ]
    }
   ],
   "source": [
    "import requests\n",
    "import pandas as pd\n",
    "\n",
    "# URL để lấy dữ liệu thời tiết\n",
    "url = 'https://api.open-meteo.com/v1/forecast?latitude=52.52&longitude=13.41&past_days=10&hourly=temperature_2m,relative_humidity_2m,wind_speed_10m'\n",
    "\n",
    "# Gửi yêu cầu GET để lấy dữ liệu\n",
    "response = requests.get(url)\n",
    "data = response.json()\n",
    "\n",
    "# Trích xuất thông tin cần thiết\n",
    "latitude = data['latitude']\n",
    "longitude = data['longitude']\n",
    "time = data['hourly']['time']\n",
    "temperature_2m = data['hourly']['temperature_2m']\n",
    "relative_humidity_2m = data['hourly']['relative_humidity_2m']\n",
    "wind_speed_10m = data['hourly']['wind_speed_10m']\n",
    "\n",
    "# Tạo DataFrame từ dữ liệu\n",
    "df = pd.DataFrame({\n",
    "    'time': time,\n",
    "    'temperature_2m': temperature_2m,\n",
    "    'relative_humidity_2m': relative_humidity_2m,\n",
    "    'wind_speed_10m': wind_speed_10m,\n",
    "    'latitude': latitude,\n",
    "    'longitude': longitude\n",
    "})\n",
    "\n",
    "# Lưu dữ liệu vào file CSV\n",
    "df.to_csv('weather_data.csv', index=False)\n",
    "\n",
    "# Chuyển cột 'time' sang kiểu datetime\n",
    "df['time'] = pd.to_datetime(df['time'])\n",
    "\n",
    "# Lọc dữ liệu từ đầu đến ngày 29-04\n",
    "filtered_df = df[df['time'] <= '2025-04-29']\n",
    "\n",
    "# Tính tổng các giá trị\n",
    "total_temperature = filtered_df['temperature_2m'].sum()\n",
    "total_humidity = filtered_df['relative_humidity_2m'].sum()\n",
    "total_wind_speed = filtered_df['wind_speed_10m'].sum()\n",
    "\n",
    "# In kết quả\n",
    "print(\"Tổng temperature_2m:\", total_temperature)\n",
    "print(\"Tổng relative_humidity_2m:\", total_humidity)\n",
    "print(\"Tổng wind_speed_10m:\", total_wind_speed)"
   ]
  }
 ],
 "metadata": {
  "kernelspec": {
   "display_name": "base",
   "language": "python",
   "name": "python3"
  },
  "language_info": {
   "codemirror_mode": {
    "name": "ipython",
    "version": 3
   },
   "file_extension": ".py",
   "mimetype": "text/x-python",
   "name": "python",
   "nbconvert_exporter": "python",
   "pygments_lexer": "ipython3",
   "version": "3.12.7"
  }
 },
 "nbformat": 4,
 "nbformat_minor": 5
}
